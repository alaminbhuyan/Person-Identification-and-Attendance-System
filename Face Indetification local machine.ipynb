{
 "cells": [
  {
   "cell_type": "code",
   "execution_count": null,
   "id": "3e9a9a91",
   "metadata": {},
   "outputs": [],
   "source": [
    "import cv2\n",
    "import numpy as np\n",
    "import face_recognition\n",
    "import os\n",
    "from datetime import datetime"
   ]
  },
  {
   "cell_type": "markdown",
   "id": "93088c90",
   "metadata": {},
   "source": [
    "## For Images"
   ]
  },
  {
   "cell_type": "code",
   "execution_count": null,
   "id": "b0f4e869",
   "metadata": {},
   "outputs": [],
   "source": [
    "train_images = \"Images/train_img\"\n",
    "\n",
    "images = []\n",
    "\n",
    "classnames = []\n",
    "\n",
    "myList = os.listdir(path=train_images)"
   ]
  },
  {
   "cell_type": "code",
   "execution_count": null,
   "id": "bf7d7842",
   "metadata": {},
   "outputs": [],
   "source": [
    "print(myList)"
   ]
  },
  {
   "cell_type": "code",
   "execution_count": null,
   "id": "23725ec6",
   "metadata": {},
   "outputs": [],
   "source": [
    "for img in myList:\n",
    "    currentImg = cv2.imread(filename=f\"{train_images}/{img}\")\n",
    "    images.append(currentImg)\n",
    "    classnames.append(os.path.splitext(img)[0])\n",
    "\n",
    "print(classnames)"
   ]
  },
  {
   "cell_type": "code",
   "execution_count": null,
   "id": "a62bbf24",
   "metadata": {},
   "outputs": [],
   "source": [
    "def findEncodings(images):\n",
    "    encodeList = []\n",
    "\n",
    "    for img in images:\n",
    "        img = cv2.cvtColor(src=img, code=cv2.COLOR_BGR2RGB)\n",
    "        encode = face_recognition.face_encodings(face_image=img)[0]\n",
    "        encodeList.append(encode)\n",
    "    return encodeList"
   ]
  },
  {
   "cell_type": "code",
   "execution_count": null,
   "id": "6468deb6",
   "metadata": {},
   "outputs": [],
   "source": [
    "xlsx_path = \"attendence.xlsx\"\n",
    "\n",
    "wb = openpyxl.load_workbook(filename=xlsx_path)\n",
    "sheet = wb.active\n",
    "index = 1\n",
    "\n",
    "def attendance(name):\n",
    "    global index\n",
    "    attend_date, attend_time = str(datetime.datetime.now()).split()\n",
    "    sheet.cell(row=index, column=1, value=name)\n",
    "    sheet.cell(row=index, column=2, value=attend_date)\n",
    "    sheet.cell(row=index, column=3, value=attend_time)\n",
    "    wb.save(filename=xlsx_path)\n",
    "    index += 1"
   ]
  },
  {
   "cell_type": "code",
   "execution_count": null,
   "id": "294192f9",
   "metadata": {},
   "outputs": [],
   "source": [
    "encodeListKnown = findEncodings(images)\n",
    "print('Encoding Complete')\n",
    "\n",
    "print(\"This is encodeListKnown: \", encodeListKnown)\n",
    "print(\"*\"*60)\n",
    "\n",
    "# path = \"Images/all_img.jpg\"\n",
    "\n",
    "path = \"Images/all_img_blur.jpg\"\n",
    "\n",
    "unknown_face = cv2.imread(filename=path)\n",
    "\n",
    "unknown_face_RGB = cv2.cvtColor(src=unknown_face, code=cv2.COLOR_BGR2RGB)\n",
    "\n",
    "\n",
    "facesCurFrame = face_recognition.face_locations(img=unknown_face_RGB)\n",
    "print(\"facesCurFrame\",facesCurFrame)\n",
    "print(\"*\"*60)\n",
    "\n",
    "encodesCurFrame = face_recognition.face_encodings(face_image=unknown_face_RGB, known_face_locations=facesCurFrame)\n",
    "print(\"encodesCurFrame\",encodesCurFrame)\n",
    "print(\"*\"*60)\n",
    "\n",
    "name = \"\"\n",
    "\n",
    "for encodeFace, faceLoc in zip(encodesCurFrame, facesCurFrame):\n",
    "    matches = face_recognition.compare_faces(known_face_encodings=encodeListKnown, face_encoding_to_check=encodeFace)\n",
    "\n",
    "    print(\"faceLoc: \",faceLoc)\n",
    "    print(\"*\"*60)\n",
    "\n",
    "    print(\"matches: \",matches)\n",
    "    print(\"*\"*60)\n",
    "    faceDistance = face_recognition.face_distance(face_encodings=encodeListKnown, face_to_compare=encodeFace)\n",
    "    \n",
    "    matchIndex = np.argmin(faceDistance)\n",
    "    print(\"matchIndex\",matchIndex)\n",
    "    print(\"*\"*60)\n",
    "\n",
    "    if matches[matchIndex]:\n",
    "        name = classnames[matchIndex].capitalize()\n",
    "        print(\"Name: \", name)\n",
    "        print(\"*\"*60)\n",
    "\n",
    "        y1, x2, y2, x1 = faceLoc # faceLoc:  (63, 162, 138, 88)\n",
    "\n",
    "        cv2.rectangle(img=unknown_face,pt1=(x1, y1), pt2=(x2, y2), color=(255,0,255), thickness=2)\n",
    "        \n",
    "        cv2.rectangle(img=unknown_face,pt1=(x1, y2-35), pt2=(x2, y2), color=(255,0,255), thickness=cv2.FILLED)\n",
    "        \n",
    "        cv2.putText(img=unknown_face, text=name, org=(x1+6, y2-6), fontFace=cv2.FONT_HERSHEY_COMPLEX,\n",
    "                    fontScale=1, color=(255,255,255), thickness=2)\n",
    "        \n",
    "        attendance(name=name)\n",
    "\n",
    "        \n",
    "\n",
    "cv2.imshow(winname=\"Image\", mat=unknown_face)\n",
    "cv2.waitKey()\n",
    "cv2.destroyAllWindows()"
   ]
  },
  {
   "cell_type": "markdown",
   "id": "865b74a4",
   "metadata": {},
   "source": [
    "## For Webcam"
   ]
  },
  {
   "cell_type": "code",
   "execution_count": null,
   "id": "911883c6",
   "metadata": {},
   "outputs": [],
   "source": [
    "train_images = \"Images/train_img\"\n",
    "\n",
    "images = []\n",
    "\n",
    "classnames = []\n",
    "\n",
    "myList = os.listdir(path=train_images)"
   ]
  },
  {
   "cell_type": "code",
   "execution_count": null,
   "id": "3f7ff50d",
   "metadata": {},
   "outputs": [],
   "source": [
    "print(myList)"
   ]
  },
  {
   "cell_type": "code",
   "execution_count": null,
   "id": "6a6806fd",
   "metadata": {},
   "outputs": [],
   "source": [
    "for img in myList:\n",
    "    currentImg = cv2.imread(filename=f\"{train_images}/{img}\")\n",
    "    images.append(currentImg)\n",
    "    classnames.append(os.path.splitext(img)[0])\n",
    "\n",
    "print(classnames)"
   ]
  },
  {
   "cell_type": "code",
   "execution_count": null,
   "id": "86df3b0c",
   "metadata": {},
   "outputs": [],
   "source": [
    "def findEncodings(images):\n",
    "    encodeList = []\n",
    "\n",
    "    for img in images:\n",
    "        img = cv2.cvtColor(src=img, code=cv2.COLOR_BGR2RGB)\n",
    "        encode = face_recognition.face_encodings(face_image=img)[0]\n",
    "        encodeList.append(encode)\n",
    "    return encodeList"
   ]
  },
  {
   "cell_type": "code",
   "execution_count": null,
   "id": "e61495e6",
   "metadata": {},
   "outputs": [],
   "source": [
    "xlsx_path = \"attendence2.xlsx\"\n",
    "\n",
    "wb = openpyxl.load_workbook(filename=xlsx_path)\n",
    "sheet = wb.active\n",
    "\n",
    "index = 1\n",
    "\n",
    "def takeAttendance(name):\n",
    "    global index\n",
    "    attend_date, attend_time = str(datetime.datetime.now()).split()\n",
    "    sheet.cell(row=index, column=1, value=name)\n",
    "    sheet.cell(row=index, column=2, value=attend_date)\n",
    "    sheet.cell(row=index, column=3, value=attend_time)\n",
    "    wb.save(filename=xlsx_path)\n",
    "    index += 1"
   ]
  },
  {
   "cell_type": "code",
   "execution_count": null,
   "id": "209aebf6",
   "metadata": {},
   "outputs": [],
   "source": [
    "encodeListKnown = findEncodings(images)\n",
    "print('Encoding Complete')\n",
    "\n",
    "print(\"This is encodeListKnown: \", encodeListKnown)\n",
    "# print(\"*\"*60)"
   ]
  },
  {
   "cell_type": "code",
   "execution_count": null,
   "id": "43d5ef7c",
   "metadata": {},
   "outputs": [],
   "source": [
    "video_cap = cv2.VideoCapture(0)\n",
    "\n",
    "while True:\n",
    "    success, frame = video_cap.read()\n",
    "    \n",
    "    if success == True:\n",
    "        unknown_resize_frame = cv2.resize(src=frame, dsize=(600, 500))\n",
    "        unknown_face_RGB = cv2.cvtColor(src=unknown_resize_frame, code=cv2.COLOR_BGR2RGB)\n",
    "        \n",
    "        facesCurFrame = face_recognition.face_locations(img=unknown_face_RGB)\n",
    "        #print(\"facesCurFrame\",facesCurFrame)\n",
    "        #print(\"*\"*60)\n",
    "        \n",
    "        encodesCurFrame = face_recognition.face_encodings(face_image=unknown_face_RGB, known_face_locations=facesCurFrame)\n",
    "        #print(\"encodesCurFrame\",encodesCurFrame)\n",
    "        #print(\"*\"*60)\n",
    "        \n",
    "        name = \"\"\n",
    "        \n",
    "        for encodeFace, faceLoc in zip(encodesCurFrame, facesCurFrame):\n",
    "            matches = face_recognition.compare_faces(known_face_encodings=encodeListKnown, face_encoding_to_check=encodeFace)\n",
    "\n",
    "            #print(\"faceLoc: \",faceLoc)\n",
    "            #print(\"*\"*60)\n",
    "\n",
    "            #print(\"matches: \",matches)\n",
    "            #print(\"*\"*60)\n",
    "            faceDistance = face_recognition.face_distance(face_encodings=encodeListKnown, face_to_compare=encodeFace)\n",
    "\n",
    "            matchIndex = np.argmin(faceDistance)\n",
    "            #print(\"matchIndex\",matchIndex)\n",
    "            #print(\"*\"*60)\n",
    "\n",
    "            if matches[matchIndex]:\n",
    "                name = classnames[matchIndex].capitalize()\n",
    "                #print(\"Name: \", name)\n",
    "                #print(\"*\"*60)\n",
    "\n",
    "                y1, x2, y2, x1 = faceLoc # faceLoc:  (63, 162, 138, 88)\n",
    "\n",
    "                cv2.rectangle(img=unknown_resize_frame,pt1=(x1, y1), pt2=(x2, y2), color=(255,0,255), thickness=2)\n",
    "\n",
    "                cv2.rectangle(img=unknown_resize_frame,pt1=(x1, y2-35), pt2=(x2, y2), color=(255,0,255), thickness=cv2.FILLED)\n",
    "\n",
    "                cv2.putText(img=unknown_resize_frame, text=name, org=(x1+6, y2-6), fontFace=cv2.FONT_HERSHEY_COMPLEX,\n",
    "                            fontScale=1, color=(255,255,255), thickness=2)\n",
    "\n",
    "                takeAttendance(name=name)\n",
    "        \n",
    "        cv2.imshow(winname=\"Face Indentification\", mat=unknown_resize_frame)\n",
    "        if cv2.waitKey(1) and 0xFF == ord('q'):\n",
    "            break\n",
    "        \n",
    "    else:\n",
    "        break\n",
    "\n",
    "video_cap.release()\n",
    "cv2.destroyAllWindows()"
   ]
  },
  {
   "cell_type": "code",
   "execution_count": null,
   "id": "d8d91ee3",
   "metadata": {},
   "outputs": [],
   "source": []
  }
 ],
 "metadata": {
  "kernelspec": {
   "display_name": "Python 3 (ipykernel)",
   "language": "python",
   "name": "python3"
  },
  "language_info": {
   "codemirror_mode": {
    "name": "ipython",
    "version": 3
   },
   "file_extension": ".py",
   "mimetype": "text/x-python",
   "name": "python",
   "nbconvert_exporter": "python",
   "pygments_lexer": "ipython3",
   "version": "3.10.2"
  }
 },
 "nbformat": 4,
 "nbformat_minor": 5
}
